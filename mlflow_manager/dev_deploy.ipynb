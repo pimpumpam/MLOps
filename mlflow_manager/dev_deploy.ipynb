{
 "cells": [
  {
   "cell_type": "code",
   "execution_count": 1,
   "metadata": {},
   "outputs": [
    {
     "ename": "ModuleNotFoundError",
     "evalue": "No module named 'mlflow_manager'",
     "output_type": "error",
     "traceback": [
      "\u001b[0;31m---------------------------------------------------------------------------\u001b[0m",
      "\u001b[0;31mModuleNotFoundError\u001b[0m                       Traceback (most recent call last)",
      "Cell \u001b[0;32mIn[1], line 7\u001b[0m\n\u001b[1;32m      4\u001b[0m \u001b[38;5;28;01mfrom\u001b[39;00m \u001b[38;5;21;01mmlflow\u001b[39;00m\u001b[38;5;21;01m.\u001b[39;00m\u001b[38;5;21;01mtracking\u001b[39;00m \u001b[38;5;28;01mimport\u001b[39;00m MlflowClient\n\u001b[1;32m      6\u001b[0m \u001b[38;5;28;01mfrom\u001b[39;00m \u001b[38;5;21;01mutils\u001b[39;00m\u001b[38;5;21;01m.\u001b[39;00m\u001b[38;5;21;01mexperiment_tracker\u001b[39;00m \u001b[38;5;28;01mimport\u001b[39;00m is_nested, tracking_experiment, tracking_run, tracking_latest_run, tracking_best_run, tracking_best_run_from_parent_run\n\u001b[0;32m----> 7\u001b[0m \u001b[38;5;28;01mfrom\u001b[39;00m \u001b[38;5;21;01mutils\u001b[39;00m\u001b[38;5;21;01m.\u001b[39;00m\u001b[38;5;21;01mmodel_tracker\u001b[39;00m \u001b[38;5;28;01mimport\u001b[39;00m register_model_by_run_id, set_model_stage, tracking_latest_model\n\u001b[1;32m      9\u001b[0m mlflow\u001b[38;5;241m.\u001b[39mset_tracking_uri(\u001b[38;5;124m'\u001b[39m\u001b[38;5;124mhttp://127.0.0.1:8334\u001b[39m\u001b[38;5;124m'\u001b[39m)\n\u001b[1;32m     10\u001b[0m client \u001b[38;5;241m=\u001b[39m MlflowClient()\n",
      "File \u001b[0;32m~/my_Python/MLOps/mlflow_manager/utils/model_tracker.py:6\u001b[0m\n\u001b[1;32m      3\u001b[0m \u001b[38;5;28;01mimport\u001b[39;00m \u001b[38;5;21;01mmlflow\u001b[39;00m\n\u001b[1;32m      4\u001b[0m \u001b[38;5;28;01mfrom\u001b[39;00m \u001b[38;5;21;01mmlflow\u001b[39;00m\u001b[38;5;21;01m.\u001b[39;00m\u001b[38;5;21;01mtracking\u001b[39;00m \u001b[38;5;28;01mimport\u001b[39;00m MlflowClient\n\u001b[0;32m----> 6\u001b[0m \u001b[38;5;28;01mfrom\u001b[39;00m \u001b[38;5;21;01mmlflow_manager\u001b[39;00m\u001b[38;5;21;01m.\u001b[39;00m\u001b[38;5;21;01mutils\u001b[39;00m\u001b[38;5;21;01m.\u001b[39;00m\u001b[38;5;21;01mutils\u001b[39;00m \u001b[38;5;28;01mimport\u001b[39;00m timestamp_to_datetime\n\u001b[1;32m      8\u001b[0m ALIAS \u001b[38;5;241m=\u001b[39m [\u001b[38;5;124m\"\u001b[39m\u001b[38;5;124mArchived\u001b[39m\u001b[38;5;124m\"\u001b[39m, \u001b[38;5;124m\"\u001b[39m\u001b[38;5;124mStaging\u001b[39m\u001b[38;5;124m\"\u001b[39m, \u001b[38;5;124m\"\u001b[39m\u001b[38;5;124mProduction\u001b[39m\u001b[38;5;124m\"\u001b[39m]\n\u001b[1;32m     11\u001b[0m \u001b[38;5;28;01mdef\u001b[39;00m \u001b[38;5;21mregister_model_by_run_id\u001b[39m(run_id\u001b[38;5;241m=\u001b[39m\u001b[38;5;28;01mNone\u001b[39;00m, \u001b[38;5;241m*\u001b[39m\u001b[38;5;241m*\u001b[39mkwargs):\n",
      "\u001b[0;31mModuleNotFoundError\u001b[0m: No module named 'mlflow_manager'"
     ]
    }
   ],
   "source": [
    "from datetime import datetime\n",
    "\n",
    "import mlflow\n",
    "from mlflow.tracking import MlflowClient\n",
    "\n",
    "from utils.experiment_tracker import is_nested, tracking_experiment, tracking_run, tracking_latest_run, tracking_best_run, tracking_best_run_from_parent_run\n",
    "from utils.model_tracker import register_model_by_run_id, set_model_stage, tracking_latest_model\n",
    "\n",
    "mlflow.set_tracking_uri('http://127.0.0.1:8334')\n",
    "client = MlflowClient()"
   ]
  },
  {
   "cell_type": "code",
   "execution_count": 28,
   "metadata": {},
   "outputs": [
    {
     "name": "stderr",
     "output_type": "stream",
     "text": [
      "Registered model 'TESTING' already exists. Creating a new version of this model...\n",
      "2025/01/10 08:49:58 INFO mlflow.store.model_registry.abstract_store: Waiting up to 300 seconds for model version to finish creation. Model name: TESTING, version 4\n"
     ]
    },
    {
     "name": "stdout",
     "output_type": "stream",
     "text": [
      "Is Nested\n",
      "Success Convert model stage.\n",
      "\tModel: 'TESTING' | Version: '4' | Stage: 'None' -> 'Production'\n"
     ]
    },
    {
     "name": "stderr",
     "output_type": "stream",
     "text": [
      "Created version '4' of model 'TESTING'.\n",
      "/Users/pimpumpam/my_Python/MLOps/mlflow_manager/utils/model_tracker.py:40: FutureWarning: ``mlflow.tracking.client.MlflowClient.transition_model_version_stage`` is deprecated since 2.9.0. Model registry stages will be removed in a future major release. To learn more about the deprecation of model registry stages, see our migration guide here: https://mlflow.org/docs/latest/model-registry.html#migrating-from-stages\n",
      "  client.transition_model_version_stage(\n"
     ]
    }
   ],
   "source": [
    "exp_name = 'crypto_forecast'\n",
    "exp_info = tracking_experiment(experiment_name=exp_name)\n",
    "exp_id = exp_info['experiment_id']\n",
    "latest_run_info = tracking_latest_run(experiment_id=exp_id)\n",
    "latest_run_id = latest_run_info['run_id']\n",
    "\n",
    "if is_nested(latest_run_id):\n",
    "    print(\"Is Nested\")\n",
    "    best_run = tracking_best_run_from_parent_run(parent_run_id=latest_run_id)\n",
    "    \n",
    "else:\n",
    "    print(\"Not Nested\")\n",
    "    best_run = tracking_best_run(run_id=latest_run_id)\n",
    "    \n",
    "register_model_info = register_model_by_run_id(\n",
    "    run_id=best_run['run_id'],\n",
    "    model_name = 'TESTING'\n",
    ")\n",
    "\n",
    "set_model_stage(\n",
    "    model_name=register_model_info['name'],\n",
    "    model_version=register_model_info['version'],\n",
    "    stage = 'Production'\n",
    ")"
   ]
  },
  {
   "cell_type": "code",
   "execution_count": 4,
   "metadata": {},
   "outputs": [],
   "source": [
    "model_name = 'TESTING'\n",
    "data = tracking_latest_model(model_name)"
   ]
  },
  {
   "cell_type": "code",
   "execution_count": 5,
   "metadata": {},
   "outputs": [
    {
     "data": {
      "text/plain": [
       "{'MODEL_NAME': 'TESTING',\n",
       " 'VERSION': '4',\n",
       " 'CREATION_TIME': '2025-01-10 07:56:50',\n",
       " 'LATEST_UPDATE_TIME': '2025-01-10 08:49:58',\n",
       " 'RUN_ID': '98ea7e8f32114f80a878958f946b6e18',\n",
       " 'STAGE': 'Production',\n",
       " 'SOURCE': '/Users/pimpumpam/my_Python/MLOps/artifacts/98ea7e8f32114f80a878958f946b6e18/artifacts/model'}"
      ]
     },
     "execution_count": 5,
     "metadata": {},
     "output_type": "execute_result"
    }
   ],
   "source": [
    "data"
   ]
  },
  {
   "cell_type": "code",
   "execution_count": null,
   "metadata": {},
   "outputs": [],
   "source": []
  }
 ],
 "metadata": {
  "kernelspec": {
   "display_name": "Torch",
   "language": "python",
   "name": "python3"
  },
  "language_info": {
   "codemirror_mode": {
    "name": "ipython",
    "version": 3
   },
   "file_extension": ".py",
   "mimetype": "text/x-python",
   "name": "python",
   "nbconvert_exporter": "python",
   "pygments_lexer": "ipython3",
   "version": "3.10.16"
  }
 },
 "nbformat": 4,
 "nbformat_minor": 2
}
